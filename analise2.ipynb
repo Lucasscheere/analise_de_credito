{
  "cells": [
    {
      "cell_type": "markdown",
      "metadata": {
        "id": "view-in-github",
        "colab_type": "text"
      },
      "source": [
        "<a href=\"https://colab.research.google.com/github/Lucasscheere/analise_de_credito/blob/main/analise2.ipynb\" target=\"_parent\"><img src=\"https://colab.research.google.com/assets/colab-badge.svg\" alt=\"Open In Colab\"/></a>"
      ]
    },
    {
      "cell_type": "code",
      "execution_count": null,
      "metadata": {
        "id": "Mm2miJF5FKXc"
      },
      "outputs": [],
      "source": [
        "import pandas as pd\n",
        "from datetime import timedelta, datetime, date\n",
        "import plotly.graph_objs as go\n",
        "import plotly.offline as py\n",
        "py.init_notebook_mode(connected=False)\n",
        "import plotly.io as pio\n",
        "pio.renderers.default = \"colab\""
      ]
    },
    {
      "cell_type": "code",
      "execution_count": null,
      "metadata": {
        "id": "8Dlt83XVFRjq"
      },
      "outputs": [],
      "source": [
        "df = pd.read_excel('CLIENTE.xls', usecols=['Data', 'Valor', 'Vencimento','F.P.', 'Pagamento', 'Atraso', 'Valor Pago'])\n",
        "df.head()"
      ]
    },
    {
      "cell_type": "code",
      "execution_count": null,
      "metadata": {
        "id": "O7cwe6h6bT7G"
      },
      "outputs": [],
      "source": [
        "#Removendo os pedidos da TM e à vista\n",
        "df = df.loc[(df['F.P.']!=\"TM\")\n",
        "          & (df['F.P.']!=\"DI\")\n",
        "          & (df['F.P.']!=\"CR\")\n",
        "          & (df['F.P.']!=\"CC\")\n",
        "          & (df['F.P.']!=\"DB\")\n",
        "          #& (df['F.P.']!=\"VL\")\n",
        "          ]"
      ]
    },
    {
      "cell_type": "code",
      "execution_count": null,
      "metadata": {
        "id": "DfqU_FZMFV64"
      },
      "outputs": [],
      "source": [
        "data_final = datetime.today()\n",
        "data_inicial = df.Data.min()"
      ]
    },
    {
      "cell_type": "code",
      "execution_count": null,
      "metadata": {
        "id": "PkVgrvh_GkUf"
      },
      "outputs": [],
      "source": [
        "array_datas = pd.date_range(start=data_inicial, end=data_final, freq = 'D')"
      ]
    },
    {
      "cell_type": "code",
      "execution_count": null,
      "metadata": {
        "id": "BnSs4UcLHi2e"
      },
      "outputs": [],
      "source": [
        "df2 = pd.DataFrame(array_datas, columns=['Data'])"
      ]
    },
    {
      "cell_type": "code",
      "execution_count": null,
      "metadata": {
        "id": "AlMBjggBJtx0"
      },
      "outputs": [],
      "source": [
        "def comprasdodia(dia):\n",
        "    valordacompra = df.loc[df['Data']==dia].Valor.sum()\n",
        "    return valordacompra"
      ]
    },
    {
      "cell_type": "code",
      "execution_count": null,
      "metadata": {
        "id": "N0ZkV7vBGHfG"
      },
      "outputs": [],
      "source": [
        "def pagamentosdodia(dia):\n",
        "    valordopagamento = df.loc[df['Pagamento']==dia].Valor.sum()\n",
        "    return valordopagamento"
      ]
    },
    {
      "cell_type": "code",
      "execution_count": null,
      "metadata": {
        "id": "UbQBglC8GX1M"
      },
      "outputs": [],
      "source": [
        "def vencimentosdodia(dia):\n",
        "    valordovencimento = df.loc[df['Vencimento']==dia].Valor.sum()\n",
        "    return valordovencimento"
      ]
    },
    {
      "cell_type": "code",
      "execution_count": null,
      "metadata": {
        "id": "vR2L7AMoow1v"
      },
      "outputs": [],
      "source": [
        "df2['Compras'] =  df2['Data'].apply(comprasdodia)"
      ]
    },
    {
      "cell_type": "code",
      "execution_count": null,
      "metadata": {
        "id": "khxJ5mndGipl"
      },
      "outputs": [],
      "source": [
        "df2['Pagamentos'] =  df2['Data'].apply(pagamentosdodia)"
      ]
    },
    {
      "cell_type": "code",
      "execution_count": null,
      "metadata": {
        "id": "-4rKSKAOGp9L"
      },
      "outputs": [],
      "source": [
        "df2['Vencimentos'] =  df2['Data'].apply(vencimentosdodia)"
      ]
    },
    {
      "cell_type": "code",
      "execution_count": null,
      "metadata": {
        "id": "AKIkgr6-HG7H"
      },
      "outputs": [],
      "source": [
        "df2['compras_acumuladas'] = df2.Compras.cumsum()\n",
        "df2['vencimentos_acumulados'] = df2.Vencimentos.cumsum()\n",
        "df2['pagamentos_acumulados'] = df2.Pagamentos.cumsum()"
      ]
    },
    {
      "cell_type": "code",
      "execution_count": null,
      "metadata": {
        "id": "8AESF1XsHhX7"
      },
      "outputs": [],
      "source": [
        "#Gerando a coluna 'valor_em_aberto', com a diferença entre o que foi comprado e o que foi pago\n",
        "df2['valor_em_aberto'] = df2['compras_acumuladas'].sub(df2['pagamentos_acumulados'])\n",
        "\n",
        "#Gerando a coluna 'valor_em_atraso', com a diferença entre o que foi comprado e o que foi pago\n",
        "df2['valor_em_atraso'] = df2['vencimentos_acumulados'].sub(df2['pagamentos_acumulados'])\n",
        "df2"
      ]
    },
    {
      "cell_type": "code",
      "execution_count": null,
      "metadata": {
        "id": "O3Hq-8DRISxa"
      },
      "outputs": [],
      "source": [
        "#criando gráfico\n",
        "linevalues = go.Figure()\n",
        "\n",
        "linevalues.add_trace(\n",
        "    go.Scatter(\n",
        "        x=df2.Data, y=df2.valor_em_aberto,\n",
        "        mode='lines',\n",
        "        marker = {'color' : '#0592FF'},\n",
        "        name='Em aberto'\n",
        "        )\n",
        "    )\n",
        "\n",
        "linevalues.add_trace(\n",
        "    go.Scatter(\n",
        "        x=df2.Data,\n",
        "        y=df2.valor_em_atraso,\n",
        "        mode='lines',\n",
        "        marker = {'color' : '#FF494C'},\n",
        "        name='Em atraso'\n",
        "        )\n",
        "    )\n",
        "\n",
        "#layout do título\n",
        "linevalues.update_layout(\n",
        "    title='Valores Em aberto x Em atraso (R$)',\n",
        "    xaxis={'title': 'Período'},\n",
        "    yaxis={'title': 'Valores'},\n",
        "    hovermode=\"x\")\n",
        "\n",
        "linevalues.update_layout(\n",
        "    title={\n",
        "        'y':0.9,\n",
        "        'x':0.5,\n",
        "        'xanchor': 'center',\n",
        "        'yanchor': 'top'\n",
        "        }\n",
        "    )\n",
        "\n",
        "#background\n",
        "linevalues.layout.plot_bgcolor = '#fff'\n",
        "\n",
        "#grids\n",
        "linevalues.update_xaxes(\n",
        "    showgrid=True, gridwidth=1, gridcolor='lightgray',\n",
        "    showline=True, linewidth=1, linecolor='black'\n",
        ")\n",
        "\n",
        "linevalues.update_yaxes(\n",
        "    showgrid=True, gridwidth=1, gridcolor='lightgray',\n",
        "    showline=True, linewidth=1, linecolor='black'\n",
        ")\n",
        "\n",
        "#display\n",
        "linevalues.show()"
      ]
    },
    {
      "cell_type": "code",
      "execution_count": null,
      "metadata": {
        "id": "rdZUy2uiYKKJ"
      },
      "outputs": [],
      "source": [
        "#Maior valor em aberto:\n",
        "maiorValorEmAberto = round(df2.valor_em_aberto.max(), 2)\n",
        "\n",
        "data_maior_valor_em_aberto = df2.loc[df2['valor_em_aberto']==df2.valor_em_aberto.max()].Data.dt.date.values[0].strftime('%d/%m/%Y')\n",
        "\n",
        "print(f'Maior valor em aberto: R$ {maiorValorEmAberto:,} dia {data_maior_valor_em_aberto}')"
      ]
    },
    {
      "cell_type": "code",
      "execution_count": null,
      "metadata": {
        "id": "GVEuBpWkQJpe"
      },
      "outputs": [],
      "source": [
        "df.Atraso.hist()"
      ]
    },
    {
      "cell_type": "code",
      "execution_count": null,
      "metadata": {
        "id": "PFdmZEcFRKCj"
      },
      "outputs": [],
      "source": [
        "print(\"Média: \", df.Atraso.mean())\n",
        "print(\"Mediana\", df.Atraso.median())"
      ]
    },
    {
      "cell_type": "code",
      "execution_count": null,
      "metadata": {
        "id": "knqLGmFHCcPs"
      },
      "outputs": [],
      "source": [
        "df.boxplot(column=['Atraso'])"
      ]
    }
  ],
  "metadata": {
    "colab": {
      "provenance": [],
      "authorship_tag": "ABX9TyO9hNLO50m/CjNFN2kHPwdV",
      "include_colab_link": true
    },
    "kernelspec": {
      "display_name": "Python 3",
      "name": "python3"
    },
    "language_info": {
      "name": "python"
    }
  },
  "nbformat": 4,
  "nbformat_minor": 0
}