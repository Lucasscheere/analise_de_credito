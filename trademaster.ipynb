{
  "nbformat": 4,
  "nbformat_minor": 0,
  "metadata": {
    "colab": {
      "provenance": [],
      "authorship_tag": "ABX9TyMSQztrtoTKZrxOLEeWWDg6",
      "include_colab_link": true
    },
    "kernelspec": {
      "name": "python3",
      "display_name": "Python 3"
    },
    "language_info": {
      "name": "python"
    }
  },
  "cells": [
    {
      "cell_type": "markdown",
      "metadata": {
        "id": "view-in-github",
        "colab_type": "text"
      },
      "source": [
        "<a href=\"https://colab.research.google.com/github/Lucasscheere/analise_de_credito/blob/main/trademaster.ipynb\" target=\"_parent\"><img src=\"https://colab.research.google.com/assets/colab-badge.svg\" alt=\"Open In Colab\"/></a>"
      ]
    },
    {
      "cell_type": "code",
      "execution_count": null,
      "metadata": {
        "id": "1rw1I5dakTAk"
      },
      "outputs": [],
      "source": [
        "import pandas as pd\n",
        "import numpy as np\n",
        "from datetime import timedelta, datetime, date\n",
        "import plotly.graph_objs as go\n",
        "import math as math\n",
        "import plotly.offline as py\n",
        "py.init_notebook_mode(connected=False)\n",
        "import plotly.io as pio\n",
        "pio.renderers.default = \"colab\""
      ]
    },
    {
      "cell_type": "code",
      "source": [
        "df = pd.read_excel('ROBERTO.xlsx',\n",
        "                  usecols=['Emissão de NF de produto não formatado', 'Data Movimento não formatado', 'Valor NF de produto', 'Data Vencimento não formatado', 'Valor','Data Pagamento não formatado'],\n",
        "                  parse_dates=['Emissão de NF de produto não formatado', 'Data Vencimento não formatado', 'Data Movimento não formatado', 'Data Pagamento não formatado'],\n",
        "                  date_format='%Y-%m-%d'\n",
        "                   )"
      ],
      "metadata": {
        "id": "pxLXQ0SokbWq"
      },
      "execution_count": null,
      "outputs": []
    },
    {
      "cell_type": "code",
      "source": [
        "df = df.rename(columns={ #Added assignment to df\n",
        "    'Emissão de NF de produto não formatado':'Data_compra',\n",
        "    'Valor NF de produto':'Valor_NF_de_produto',\n",
        "    'Data Vencimento não formatado':'Data_vencimento',\n",
        "    'Data Pagamento não formatado':'Data_Pagamento'\n",
        "    })\n",
        "df.head()"
      ],
      "metadata": {
        "id": "Wa6A7v6HJ4xz"
      },
      "execution_count": null,
      "outputs": []
    },
    {
      "cell_type": "code",
      "source": [
        "data_final = datetime.today()\n",
        "data_inicial = df.Data_compra.min()"
      ],
      "metadata": {
        "id": "1z8WC8Pelviw"
      },
      "execution_count": null,
      "outputs": []
    },
    {
      "cell_type": "code",
      "source": [
        "array_datas = pd.date_range(start=data_inicial, end=data_final, freq = 'D')"
      ],
      "metadata": {
        "id": "UMxszcoFlxLZ"
      },
      "execution_count": null,
      "outputs": []
    },
    {
      "cell_type": "code",
      "source": [
        "df.loc[df['Data_Pagamento'] == \"-\", 'Data_Pagamento'] = np.nan"
      ],
      "metadata": {
        "id": "COVwtiCzmkx9"
      },
      "execution_count": null,
      "outputs": []
    },
    {
      "cell_type": "code",
      "source": [
        "df = df[df['Data_vencimento'] != \"-\"]"
      ],
      "metadata": {
        "id": "2sxoEAHPevWO"
      },
      "execution_count": null,
      "outputs": []
    },
    {
      "cell_type": "code",
      "source": [
        "df2 = pd.DataFrame(array_datas, columns=['Data'])"
      ],
      "metadata": {
        "id": "nxqwwQyNlys5"
      },
      "execution_count": null,
      "outputs": []
    },
    {
      "cell_type": "code",
      "source": [
        "df.Data_compra = pd.to_datetime(df.Data_compra)\n",
        "df.Data_vencimento = pd.to_datetime(df.Data_vencimento)\n",
        "df.Data_Pagamento = pd.to_datetime(df.Data_Pagamento)"
      ],
      "metadata": {
        "id": "exxMfXfQePkE"
      },
      "execution_count": null,
      "outputs": []
    },
    {
      "cell_type": "code",
      "source": [
        "def comprasdodia(dia):\n",
        "    valordacompra = df.loc[df['Data_compra']==dia].Valor.sum()\n",
        "    return valordacompra"
      ],
      "metadata": {
        "id": "3kQPgCbppOgC"
      },
      "execution_count": null,
      "outputs": []
    },
    {
      "cell_type": "code",
      "source": [
        "def pagamentosdodia(dia):\n",
        "    valordopagamento = df.loc[df['Data_Pagamento']==dia].Valor.sum()\n",
        "    return valordopagamento"
      ],
      "metadata": {
        "id": "gTn3RTcvpQJZ"
      },
      "execution_count": null,
      "outputs": []
    },
    {
      "cell_type": "code",
      "source": [
        "def vencimentosdodia(dia):\n",
        "    valordovencimento = df.loc[df['Data_vencimento']==dia].Valor.sum()\n",
        "    return valordovencimento"
      ],
      "metadata": {
        "id": "vUFmIg9XpSjB"
      },
      "execution_count": null,
      "outputs": []
    },
    {
      "cell_type": "code",
      "source": [
        "df2.head()"
      ],
      "metadata": {
        "id": "_aBKCTR1RZVC"
      },
      "execution_count": null,
      "outputs": []
    },
    {
      "cell_type": "code",
      "source": [
        "df2['Compras'] =  df2['Data'].apply(comprasdodia)"
      ],
      "metadata": {
        "id": "VMaS5pIIpUG5"
      },
      "execution_count": null,
      "outputs": []
    },
    {
      "cell_type": "code",
      "source": [
        "df2['Pagamentos'] =  df2['Data'].apply(pagamentosdodia)"
      ],
      "metadata": {
        "id": "-YlZkbjOpVeS"
      },
      "execution_count": null,
      "outputs": []
    },
    {
      "cell_type": "code",
      "source": [
        "df2['Vencimentos'] =  df2['Data'].apply(vencimentosdodia)"
      ],
      "metadata": {
        "id": "NYzyEPvQpXNJ"
      },
      "execution_count": null,
      "outputs": []
    },
    {
      "cell_type": "code",
      "source": [
        "df2['compras_acumuladas'] = df2.Compras.cumsum()\n",
        "df2['vencimentos_acumulados'] = df2.Vencimentos.cumsum()\n",
        "df2['pagamentos_acumulados'] = df2.Pagamentos.cumsum()"
      ],
      "metadata": {
        "id": "JnykRr0UpYgR"
      },
      "execution_count": null,
      "outputs": []
    },
    {
      "cell_type": "code",
      "source": [
        "#Gerando a coluna 'valor_em_aberto', com a diferença entre o que foi comprado e o que foi pago\n",
        "df2['valor_em_aberto'] = df2['compras_acumuladas'].sub(df2['pagamentos_acumulados'])\n",
        "\n",
        "#Gerando a coluna 'valor_em_atraso', com a diferença entre o que foi comprado e o que foi pago\n",
        "df2['valor_em_atraso'] = df2['vencimentos_acumulados'].sub(df2['pagamentos_acumulados'])\n",
        "df2"
      ],
      "metadata": {
        "id": "C98ylGhLpaAa"
      },
      "execution_count": null,
      "outputs": []
    },
    {
      "cell_type": "code",
      "source": [
        "#criando gráfico\n",
        "linevalues = go.Figure()\n",
        "\n",
        "linevalues.add_trace(\n",
        "    go.Scatter(\n",
        "        x=df2.Data, y=df2.valor_em_aberto,\n",
        "        mode='lines',\n",
        "        marker = {'color' : '#0592FF'},\n",
        "        name='Em aberto'\n",
        "        )\n",
        "    )\n",
        "\n",
        "linevalues.add_trace(\n",
        "    go.Scatter(\n",
        "        x=df2.Data,\n",
        "        y=df2.valor_em_atraso,\n",
        "        mode='lines',\n",
        "        marker = {'color' : '#FF494C'},\n",
        "        name='Em atraso'\n",
        "        )\n",
        "    )\n",
        "\n",
        "#layout do título\n",
        "linevalues.update_layout(\n",
        "    title='Valores Em aberto x Em atraso (R$)',\n",
        "    xaxis={'title': 'Período'},\n",
        "    yaxis={'title': 'Valores'},\n",
        "    hovermode=\"x\")\n",
        "\n",
        "linevalues.update_layout(\n",
        "    title={\n",
        "        'y':0.9,\n",
        "        'x':0.5,\n",
        "        'xanchor': 'center',\n",
        "        'yanchor': 'top'\n",
        "        }\n",
        "    )\n",
        "\n",
        "#background\n",
        "linevalues.layout.plot_bgcolor = '#fff'\n",
        "\n",
        "#grids\n",
        "linevalues.update_xaxes(\n",
        "    showgrid=True, gridwidth=1, gridcolor='lightgray',\n",
        "    showline=True, linewidth=1, linecolor='black'\n",
        ")\n",
        "\n",
        "linevalues.update_yaxes(\n",
        "    showgrid=True, gridwidth=1, gridcolor='lightgray',\n",
        "    showline=True, linewidth=1, linecolor='black'\n",
        ")\n",
        "\n",
        "#display\n",
        "linevalues.show()"
      ],
      "metadata": {
        "id": "u616z49ypdGq"
      },
      "execution_count": null,
      "outputs": []
    }
  ]
}